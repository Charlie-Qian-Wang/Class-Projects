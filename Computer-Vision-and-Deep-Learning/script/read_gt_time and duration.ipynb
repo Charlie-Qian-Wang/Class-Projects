{
 "cells": [
  {
   "cell_type": "code",
   "execution_count": null,
   "metadata": {},
   "outputs": [],
   "source": [
    "self.training_ids = \n",
    "self.validation_ids =\n",
    "self.gt_times = args.gt_times\n",
    "self.durations = args.durations"
   ]
  },
  {
   "cell_type": "code",
   "execution_count": null,
   "metadata": {},
   "outputs": [],
   "source": [
    "temp_gt_times = {}\n",
    "for video in self.training_ids:\n",
    "    temp_gt_times[video] = []\n",
    "    f = open(os.path.join(self.gt_times, video + \".gt_time\"))\n",
    "    content = f.read().split()\n",
    "    for i in range(len(content)):\n",
    "        if (i%2 == 0):\n",
    "            temp_gt_times[video].append((content[i], content[i+1])) \n",
    "    f.close()\n",
    "for video in self.validation_ids:\n",
    "    temp_gt_times[video] = []\n",
    "    f = open(os.path.join(self.gt_times, video + \".gt_time\"))\n",
    "    content = f.read().split()\n",
    "    for i in range(len(content)):\n",
    "        if (i%2 == 0):\n",
    "            temp_gt_times[video].append((content[i], content[i+1])) \n",
    "    f.close()\n",
    "self.gt_times = temp_gt_times"
   ]
  },
  {
   "cell_type": "code",
   "execution_count": null,
   "metadata": {},
   "outputs": [],
   "source": [
    "temp_durations = {}\n",
    "f = open(self.durations)\n",
    "content = f.read().split()\n",
    "for i in range(len(content)):\n",
    "    if (i%2 == 0):\n",
    "        temp_durations[content[i]] = content[i+1]\n",
    "f.close()\n",
    "self.durations = temp_durations"
   ]
  }
 ],
 "metadata": {
  "kernelspec": {
   "display_name": "Python 3",
   "language": "python",
   "name": "python3"
  },
  "language_info": {
   "codemirror_mode": {
    "name": "ipython",
    "version": 3
   },
   "file_extension": ".py",
   "mimetype": "text/x-python",
   "name": "python",
   "nbconvert_exporter": "python",
   "pygments_lexer": "ipython3",
   "version": "3.6.5"
  }
 },
 "nbformat": 4,
 "nbformat_minor": 2
}
