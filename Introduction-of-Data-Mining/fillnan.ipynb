{
 "cells": [
  {
   "cell_type": "code",
   "execution_count": 17,
   "metadata": {
    "collapsed": true
   },
   "outputs": [],
   "source": [
    "import pandas as pd\n",
    "import numpy as np\n",
    "import seaborn as sns\n",
    "import matplotlib.pyplot as plt\n",
    "data1 = pd.read_csv(\"1year.csv\", header = None)\n",
    "data2 = pd.read_csv(\"2year.csv\", header = None)\n",
    "data3 = pd.read_csv(\"3year.csv\", header = None)\n",
    "data4 = pd.read_csv(\"4year.csv\", header = None)\n",
    "data5 = pd.read_csv(\"5year.csv\", header = None)"
   ]
  },
  {
   "cell_type": "code",
   "execution_count": 18,
   "metadata": {},
   "outputs": [],
   "source": [
    "data1 = data1.fillna(data1.median())\n",
    "data2 = data2.fillna(data2.median())\n",
    "data3 = data3.fillna(data3.median())\n",
    "data4 = data4.fillna(data4.median())\n",
    "data5 = data5.fillna(data5.median())"
   ]
  },
  {
   "cell_type": "code",
   "execution_count": 19,
   "metadata": {
    "collapsed": true
   },
   "outputs": [],
   "source": [
    "data1.to_csv(\"1year_withoutmiss.csv\", index = False)\n",
    "data2.to_csv(\"2year_withoutmiss.csv\", index = False)\n",
    "data3.to_csv(\"3year_withoutmiss.csv\", index = False)\n",
    "data4.to_csv(\"4year_withoutmiss.csv\", index = False)\n",
    "data5.to_csv(\"5year_withoutmiss.csv\", index = False)"
   ]
  },
  {
   "cell_type": "code",
   "execution_count": null,
   "metadata": {
    "collapsed": true
   },
   "outputs": [],
   "source": []
  }
 ],
 "metadata": {
  "kernelspec": {
   "display_name": "Python 2",
   "language": "python",
   "name": "python2"
  },
  "language_info": {
   "codemirror_mode": {
    "name": "ipython",
    "version": 2
   },
   "file_extension": ".py",
   "mimetype": "text/x-python",
   "name": "python",
   "nbconvert_exporter": "python",
   "pygments_lexer": "ipython2",
   "version": "2.7.14"
  }
 },
 "nbformat": 4,
 "nbformat_minor": 2
}
