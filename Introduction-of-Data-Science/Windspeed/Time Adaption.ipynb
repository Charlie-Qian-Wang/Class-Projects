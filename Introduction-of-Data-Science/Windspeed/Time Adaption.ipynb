{
 "cells": [
  {
   "cell_type": "code",
   "execution_count": 9,
   "metadata": {
    "collapsed": true
   },
   "outputs": [],
   "source": [
    "import pandas as pd\n",
    "import numpy as np"
   ]
  },
  {
   "cell_type": "code",
   "execution_count": 10,
   "metadata": {
    "collapsed": true
   },
   "outputs": [],
   "source": [
    "Fan = []\n",
    "for i in range(6):\n",
    "    dataFile = \"PredictData/predict_for_fan\" + str(i) + \".csv\"\n",
    "    temp = pd.read_csv(dataFile)\n",
    "    Fan.append(temp)"
   ]
  },
  {
   "cell_type": "code",
   "execution_count": 11,
   "metadata": {
    "collapsed": true
   },
   "outputs": [],
   "source": [
    "for i in range(6):\n",
    "    Fan[i][\"month\"] = Fan[i][\"time\"].str.slice(5, 7).astype(\"int64\")\n",
    "    Fan[i][\"day\"] = Fan[i][\"time\"].str.slice(8, 10).astype(\"int64\")\n",
    "    Fan[i][\"hour\"] = Fan[i][\"time\"].str.slice(11, 13).astype(\"int64\")\n",
    "    Fan[i][\"minute\"] = Fan[i][\"time\"].str.slice(14, 16).astype(\"int64\")\n",
    "    Fan[i][\"second\"] = Fan[i][\"time\"].str.slice(17, 19).astype(\"int64\")\n",
    "    del Fan[i][\"time\"]"
   ]
  },
  {
   "cell_type": "code",
   "execution_count": 12,
   "metadata": {
    "collapsed": true,
    "scrolled": true
   },
   "outputs": [],
   "source": [
    "for i in range(6):\n",
    "    Fan[i].loc[:, \"hour\"] += 8\n",
    "    Fan[i].loc[Fan[i][\"hour\"] >= 24, \"day\"] += 1\n",
    "    Fan[i].loc[Fan[i][\"hour\"] >= 24, \"hour\"] -= 24\n",
    "    t = (Fan[i][\"day\"] == 32)\n",
    "    Fan[i].loc[t, \"month\"] += 1\n",
    "    Fan[i].loc[t, \"day\"] -= 31\n",
    "    t = (Fan[i][\"day\"] == 31) & ((Fan[i][\"month\"] == 4) | (Fan[i][\"month\"] == 6))\n",
    "    Fan[i].loc[t, \"month\"] += 1\n",
    "    Fan[i].loc[t, \"day\"] -= 30\n",
    "    Fan[i][\"time\"] = Fan[i][\"hour\"] * 3600 + Fan[i][\"minute\"] * 60 + Fan[i][\"second\"]\n",
    "    Fan[i][\"dd\"] = Fan[i][\"mm\"] * 100 + Fan[i][\"dd\"]\n",
    "    Fan[i][\"dd\"] = Fan[i][\"dd\"].astype(\"int64\")\n",
    "    del Fan[i][\"mm\"]\n",
    "    del Fan[i][\"hour\"]\n",
    "    del Fan[i][\"minute\"]\n",
    "    del Fan[i][\"second\"]\n",
    "    Fan[i] = Fan[i].reindex(columns = [\"month\", \"day\", \"time\", \"speed\", \"ntspeed\", \"P\", \"T\", \"u\", \"v\", \"w\", \"dd\"])"
   ]
  },
  {
   "cell_type": "code",
   "execution_count": 13,
   "metadata": {
    "collapsed": true
   },
   "outputs": [],
   "source": [
    "for i in range(6):\n",
    "    Fan[i][\"new\"] = False\n",
    "    Fan[i] = Fan[i].sort_values(by = [\"month\", \"day\", \"time\", \"dd\"])\n",
    "    Fan[i].index = range(42978)"
   ]
  },
  {
   "cell_type": "code",
   "execution_count": 14,
   "metadata": {
    "collapsed": true
   },
   "outputs": [],
   "source": [
    "for i in range(6):\n",
    "    for j in range(42977):\n",
    "        t1 = Fan[i].loc[j,:]\n",
    "        t2 = Fan[i].loc[j+1,:]\n",
    "        if (t1[\"month\"] == t2[\"month\"]) and (t1[\"day\"] == t2[\"day\"]) and (t1[\"time\"] == t2[\"time\"]):\n",
    "            continue\n",
    "        else:\n",
    "            Fan[i].loc[j, \"new\"] = True\n",
    "    Fan[i].loc[42977,\"new\"] = True\n",
    "    Fan[i] = Fan[i][Fan[i][\"month\"] != 8]"
   ]
  },
  {
   "cell_type": "code",
   "execution_count": 17,
   "metadata": {},
   "outputs": [],
   "source": [
    "new = []\n",
    "old = []\n",
    "for i in range(6):\n",
    "    s1 = Fan[i][Fan[i][\"new\"] == True]\n",
    "    s2 = Fan[i][Fan[i][\"new\"] == False]\n",
    "    s1.index = range(11697)\n",
    "    s2.index = range(30990)\n",
    "    del s1[\"new\"]\n",
    "    del s2[\"new\"]\n",
    "    new.append(s1)\n",
    "    old.append(s2)"
   ]
  },
  {
   "cell_type": "code",
   "execution_count": 18,
   "metadata": {
    "collapsed": true
   },
   "outputs": [],
   "source": [
    "for i in range(6):\n",
    "    dataFile = \"PredictData/new_predict_for_fan\" + str(i) + \".csv\"\n",
    "    new[i].to_csv(dataFile, index = False)\n",
    "    dataFile = \"PredictData/old_predict_for_fan\" + str(i) + \".csv\"\n",
    "    old[i].to_csv(dataFile, index = False)\n",
    "    dataFile = \"PredictData/all_predict_for_fan\" + str(i) + \".csv\"\n",
    "    Fan[i].to_csv(dataFile, index = False)"
   ]
  },
  {
   "cell_type": "code",
   "execution_count": null,
   "metadata": {
    "collapsed": true
   },
   "outputs": [],
   "source": []
  }
 ],
 "metadata": {
  "kernelspec": {
   "display_name": "Python 2",
   "language": "python",
   "name": "python2"
  },
  "language_info": {
   "codemirror_mode": {
    "name": "ipython",
    "version": 2
   },
   "file_extension": ".py",
   "mimetype": "text/x-python",
   "name": "python",
   "nbconvert_exporter": "python",
   "pygments_lexer": "ipython2",
   "version": "2.7.14"
  }
 },
 "nbformat": 4,
 "nbformat_minor": 2
}
