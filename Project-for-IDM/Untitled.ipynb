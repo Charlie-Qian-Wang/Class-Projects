{
 "cells": [
  {
   "cell_type": "code",
   "execution_count": 10,
   "metadata": {
    "scrolled": true
   },
   "outputs": [],
   "source": [
    "import pandas as pd\n",
    "import numpy as np\n",
    "import matplotlib.pyplot as plt\n",
    "import seaborn as sns\n",
    "from sklearn.cross_validation import train_test_split\n",
    "from sklearn.tree import DecisionTreeClassifier\n",
    "from sklearn.ensemble import GradientBoostingClassifier\n",
    "from sklearn.metrics import confusion_matrix\n",
    "from sklearn import svm\n",
    "import sklearn.tree as tree\n",
    "from xgboost import XGBClassifier"
   ]
  },
  {
   "cell_type": "code",
   "execution_count": 11,
   "metadata": {},
   "outputs": [
    {
     "name": "stdout",
     "output_type": "stream",
     "text": [
      "[[1687    3]\n",
      " [  35   32]]\n",
      "0.0216277746158\n",
      "[[1685    5]\n",
      " [  37   30]]\n",
      "0.0239043824701\n",
      "[[2442    4]\n",
      " [  62   36]]\n",
      "0.0259433962264\n",
      "[[2439    7]\n",
      " [  61   37]]\n",
      "0.0267295597484\n",
      "[[2503   12]\n",
      " [  67   44]]\n",
      "0.0300837776085\n",
      "[[2497   18]\n",
      " [  69   42]]\n",
      "0.0331302361005\n",
      "[[2303   11]\n",
      " [  77   57]]\n",
      "0.0359477124183\n",
      "[[2291   23]\n",
      " [  71   63]]\n",
      "0.0383986928105\n",
      "[[1376    8]\n",
      " [  37   57]]\n",
      "0.0304465493911\n",
      "[[1374   10]\n",
      " [  39   55]]\n",
      "0.0331529093369\n"
     ]
    }
   ],
   "source": [
    "for y in range(5):\n",
    "    data = pd.read_csv('WithoutMiss/'+str(y+1)+'year_withoutmiss.csv')\n",
    "    trainx,testx,trainy,testy = train_test_split(data.iloc[:,0:64], data[u'64'], test_size=0.25, random_state = 0)\n",
    "    trainy=pd.DataFrame(trainy)\n",
    "    testy=pd.DataFrame(testy)\n",
    "    \n",
    "    model = XGBClassifier(n_estimators=1000).fit(trainx, np.array(trainy).ravel())\n",
    "    pre=model.predict(testx)\n",
    "    C = confusion_matrix(testy, pre)\n",
    "    print(C)\n",
    "    err = (np.mean((pre != np.array(testy).ravel())))\n",
    "    print(err)\n",
    "    \n",
    "    model = GradientBoostingClassifier(n_estimators=1000).fit(trainx, np.array(trainy).ravel())\n",
    "    pre=model.predict(testx)\n",
    "    C = confusion_matrix(testy, pre)\n",
    "    print(C)\n",
    "    err = (np.mean((pre != np.array(testy).ravel())))\n",
    "    print(err)"
   ]
  },
  {
   "cell_type": "code",
   "execution_count": null,
   "metadata": {
    "collapsed": true
   },
   "outputs": [],
   "source": []
  }
 ],
 "metadata": {
  "kernelspec": {
   "display_name": "Python 2",
   "language": "python",
   "name": "python2"
  },
  "language_info": {
   "codemirror_mode": {
    "name": "ipython",
    "version": 2
   },
   "file_extension": ".py",
   "mimetype": "text/x-python",
   "name": "python",
   "nbconvert_exporter": "python",
   "pygments_lexer": "ipython2",
   "version": "2.7.14"
  }
 },
 "nbformat": 4,
 "nbformat_minor": 2
}
