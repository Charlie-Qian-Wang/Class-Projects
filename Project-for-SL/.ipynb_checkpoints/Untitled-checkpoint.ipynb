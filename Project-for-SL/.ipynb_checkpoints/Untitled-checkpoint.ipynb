{
 "cells": [
  {
   "cell_type": "code",
   "execution_count": 5,
   "metadata": {},
   "outputs": [],
   "source": [
    "import time\n",
    "import numpy as np\n",
    "import admm\n",
    "import math\n",
    "import matplotlib.pyplot as plt\n",
    "from sklearn.linear_model import Lasso\n",
    "from sklearn.datasets import load_boston"
   ]
  },
  {
   "cell_type": "code",
   "execution_count": 2,
   "metadata": {},
   "outputs": [
    {
     "name": "stdout",
     "output_type": "stream",
     "text": [
      "First, we show our ADMM algorithm is correct.\n",
      "iter\t    r norm\t   eps pri\t    s norm\t  eps dual\t objective\n",
      " 100\t    0.0000\t    0.0008\t    0.0000\t    0.0025\t68642295.9363\n",
      " 200\t    0.0000\t    0.0008\t    0.0000\t    0.0025\t68642295.9363\n",
      " 300\t    0.0000\t    0.0008\t    0.0000\t    0.0025\t68642295.9363\n",
      " 400\t    0.0000\t    0.0008\t    0.0000\t    0.0025\t68642295.9363\n",
      " 500\t    0.0000\t    0.0008\t    0.0000\t    0.0025\t68642295.9363\n",
      " 600\t    0.0000\t    0.0008\t    0.0000\t    0.0025\t68642295.9363\n",
      " 700\t    0.0000\t    0.0008\t    0.0000\t    0.0025\t68642295.9363\n",
      " 800\t    0.0000\t    0.0008\t    0.0000\t    0.0025\t68642295.9363\n",
      " 900\t    0.0000\t    0.0008\t    0.0000\t    0.0025\t68642295.9363\n",
      "1000\t    0.0000\t    0.0008\t    0.0000\t    0.0025\t68642295.9363\n",
      "[-0.000000  0.000000  0.000000 -0.000000  0.000000  2.713107 -0.000000\n",
      " -0.000000  0.000000 -0.000000 -1.343499  0.180794 -3.543612]\n",
      "[-0.000000  0.000000 -0.000000  0.000000 -0.000000  2.713353 -0.000000\n",
      " -0.000000 -0.000000 -0.000000 -1.343548  0.180955 -3.543383]\n"
     ]
    }
   ],
   "source": [
    "print \"First, we show our ADMM algorithm is correct.\"\n",
    "\n",
    "boston = load_boston()\n",
    "mean = np.mean(boston.data,axis=0)\n",
    "std = np.std(boston.data,axis=0)\n",
    "X = (boston.data -mean)/std\n",
    "Y = boston.target\n",
    "\n",
    "lasso = admm.ADMM(X, Y)\n",
    "result = lasso.solve()\n",
    "np.set_printoptions(formatter={'float': '{: 0.6f}'.format})\n",
    "print lasso.x\n",
    "\n",
    "lasso = Lasso()\n",
    "lasso.fit(X, Y)\n",
    "print lasso.coef_"
   ]
  },
  {
   "cell_type": "code",
   "execution_count": 3,
   "metadata": {},
   "outputs": [
    {
     "name": "stdout",
     "output_type": "stream",
     "text": [
      "We simulate data as the approach in the paper.\n"
     ]
    }
   ],
   "source": [
    "print \"We simulate data as the approach in the paper.\"\n",
    "\n",
    "N = 100\n",
    "p = 5000\n",
    "rho = 2.0/3\n",
    "k = 0.1\n",
    "\n",
    "Expect = np.zeros(p)\n",
    "Sigma = np.ones((p, p)) * rho + np.identity(p) * (1-rho)\n",
    "X = np.random.multivariate_normal(Expect, Sigma, N)\n",
    "beta = [((-1)**j) * math.exp(-2.0*(j-1)/20.0) for j in range(1, p+1)]\n",
    "Y = np.random.randn(N) * k + X.dot(beta)"
   ]
  },
  {
   "cell_type": "code",
   "execution_count": 4,
   "metadata": {},
   "outputs": [
    {
     "name": "stdout",
     "output_type": "stream",
     "text": [
      "We compare the running time of our ADMM and lasso package in python.\n",
      "iter\t    r norm\t   eps pri\t    s norm\t  eps dual\t objective\n",
      " 100\t    0.0017\t    0.0072\t    0.0017\t    0.0013\t 1815.2682\n",
      " 200\t    0.0001\t    0.0072\t    0.0000\t    0.0013\t 1817.0366\n",
      " 300\t    0.0000\t    0.0072\t    0.0000\t    0.0013\t 1816.8695\n",
      " 400\t    0.0000\t    0.0072\t    0.0000\t    0.0013\t 1816.8393\n",
      " 500\t    0.0000\t    0.0072\t    0.0000\t    0.0013\t 1816.8354\n",
      " 600\t    0.0000\t    0.0072\t    0.0000\t    0.0013\t 1816.8349\n",
      " 700\t    0.0000\t    0.0072\t    0.0000\t    0.0013\t 1816.8348\n",
      " 800\t    0.0000\t    0.0072\t    0.0000\t    0.0013\t 1816.8348\n",
      " 900\t    0.0000\t    0.0072\t    0.0000\t    0.0013\t 1816.8348\n",
      "1000\t    0.0000\t    0.0072\t    0.0000\t    0.0013\t 1816.8348\n",
      "After 30.1178109646 s get ADMM result\n",
      "Number of non-zero coef: 39\n",
      "[-0.289998  0.361703 -0.454242 -0.000000 -0.267708  0.354615 -0.114489\n",
      "  0.068073 -0.000000  0.145113]\n",
      "After 0.2495470047 s get Lasso result\n",
      "Number of non-zero coef: 44\n",
      "0.231302413965 [-0.208066  0.353268 -0.460116  0.000000 -0.314804  0.279524 -0.122618\n",
      "  0.006036 -0.000000  0.042356]\n",
      "Ground truth is [-1.0, 0.9048374180359595, -0.8187307530779818, 0.7408182206817179, -0.6703200460356393, 0.6065306597126334, -0.5488116360940264, 0.4965853037914095, -0.44932896411722156, 0.4065696597405991]\n"
     ]
    }
   ],
   "source": [
    "print \"We compare the running time of our ADMM and lasso package in python.\"\n",
    "\n",
    "start = time.time()\n",
    "lasso = admm.ADMM(X, Y)\n",
    "lasso.solve(lamba = 0.1)\n",
    "end = time.time()\n",
    "\n",
    "np.set_printoptions(formatter={'float': '{: 0.6f}'.format})\n",
    "print \"After\", end - start, \"s get ADMM result\"\n",
    "print \"Number of non-zero coef:\", np.sum(abs(lasso.x) > 1e-4)\n",
    "print lasso.x[:10]\n",
    "\n",
    "start = time.time()\n",
    "lasso = Lasso(0.1)\n",
    "lasso.fit(X, Y)\n",
    "end = time.time()\n",
    "\n",
    "print \"After\", end - start, 's get Lasso result'\n",
    "print \"Number of non-zero coef:\", np.sum(lasso.coef_ != 0)\n",
    "print lasso.intercept_, lasso.coef_[:10]\n",
    "\n",
    "print \"Ground truth is\", beta[:10]"
   ]
  },
  {
   "cell_type": "code",
   "execution_count": null,
   "metadata": {},
   "outputs": [
    {
     "name": "stdout",
     "output_type": "stream",
     "text": [
      "0\n",
      "iter\t    r norm\t   eps pri\t    s norm\t  eps dual\t objective\n",
      " 100\t    0.0005\t    0.0071\t    0.0030\t    0.0010\t    0.2871\n",
      " 200\t    0.0002\t    0.0071\t    0.0017\t    0.0010\t    0.2623\n",
      " 300\t    0.0001\t    0.0071\t    0.0012\t    0.0010\t    0.2439\n",
      " 400\t    0.0001\t    0.0072\t    0.0009\t    0.0010\t    0.2423\n",
      " 500\t    0.0001\t    0.0072\t    0.0008\t    0.0010\t    0.2404\n",
      " 600\t    0.0001\t    0.0072\t    0.0007\t    0.0010\t    0.2363\n",
      " 700\t    0.0000\t    0.0072\t    0.0006\t    0.0010\t    0.2322\n",
      " 800\t    0.0000\t    0.0072\t    0.0005\t    0.0010\t    0.2317\n",
      " 900\t    0.0001\t    0.0072\t    0.0005\t    0.0010\t    0.2271\n",
      "1000\t    0.0000\t    0.0072\t    0.0004\t    0.0010\t    0.2298\n",
      "1\n",
      "iter\t    r norm\t   eps pri\t    s norm\t  eps dual\t objective\n",
      " 100\t    0.0004\t    0.0071\t    0.0030\t    0.0010\t    0.3319\n",
      " 200\t    0.0002\t    0.0071\t    0.0017\t    0.0010\t    0.3019\n",
      " 300\t    0.0002\t    0.0071\t    0.0012\t    0.0010\t    0.2855\n",
      " 400\t    0.0001\t    0.0072\t    0.0010\t    0.0010\t    0.2813\n",
      " 500\t    0.0001\t    0.0072\t    0.0008\t    0.0010\t    0.2826\n",
      " 600\t    0.0001\t    0.0072\t    0.0006\t    0.0010\t    0.2727\n",
      " 700\t    0.0001\t    0.0072\t    0.0006\t    0.0010\t    0.2708\n",
      " 800\t    0.0000\t    0.0072\t    0.0005\t    0.0010\t    0.2666\n",
      " 900\t    0.0001\t    0.0072\t    0.0004\t    0.0010\t    0.2683\n",
      "1000\t    0.0000\t    0.0072\t    0.0004\t    0.0010\t    0.2688\n",
      "2\n",
      "iter\t    r norm\t   eps pri\t    s norm\t  eps dual\t objective\n",
      " 100\t    0.0005\t    0.0071\t    0.0031\t    0.0010\t    0.3846\n",
      " 200\t    0.0002\t    0.0071\t    0.0017\t    0.0010\t    0.3492\n",
      " 300\t    0.0002\t    0.0071\t    0.0012\t    0.0010\t    0.3340\n",
      " 400\t    0.0002\t    0.0072\t    0.0009\t    0.0010\t    0.3250\n",
      " 500\t    0.0001\t    0.0072\t    0.0008\t    0.0010\t    0.3270\n",
      " 600\t    0.0000\t    0.0072\t    0.0007\t    0.0010\t    0.3181\n",
      " 700\t    0.0001\t    0.0072\t    0.0006\t    0.0010\t    0.3160\n",
      " 800\t    0.0001\t    0.0072\t    0.0005\t    0.0010\t    0.3115\n",
      " 900\t    0.0000\t    0.0072\t    0.0005\t    0.0010\t    0.3152\n",
      "1000\t    0.0001\t    0.0072\t    0.0004\t    0.0010\t    0.3116\n",
      "3\n",
      "iter\t    r norm\t   eps pri\t    s norm\t  eps dual\t objective\n",
      " 100\t    0.0005\t    0.0071\t    0.0032\t    0.0010\t    0.4425\n",
      " 200\t    0.0002\t    0.0071\t    0.0018\t    0.0010\t    0.4011\n",
      " 300\t    0.0002\t    0.0072\t    0.0012\t    0.0010\t    0.3938\n",
      " 400\t    0.0001\t    0.0072\t    0.0010\t    0.0010\t    0.3864\n",
      " 500\t    0.0001\t    0.0072\t    0.0008\t    0.0010\t    0.3741\n",
      " 600\t    0.0001\t    0.0072\t    0.0007\t    0.0010\t    0.3708\n",
      " 700\t    0.0001\t    0.0072\t    0.0006\t    0.0010\t    0.3640\n",
      " 800\t    0.0000\t    0.0072\t    0.0005\t    0.0010\t    0.3690\n",
      " 900\t    0.0000\t    0.0072\t    0.0005\t    0.0010\t    0.3659\n",
      "1000\t    0.0000\t    0.0072\t    0.0004\t    0.0010\t    0.3661\n",
      "4\n",
      "iter\t    r norm\t   eps pri\t    s norm\t  eps dual\t objective\n",
      " 100\t    0.0005\t    0.0071\t    0.0033\t    0.0010\t    0.5123\n",
      " 200\t    0.0003\t    0.0071\t    0.0018\t    0.0010\t    0.4580\n"
     ]
    }
   ],
   "source": [
    "print \"We apply our algorithm for 100 lambda values.\"\n",
    "lower = -7.0\n",
    "upper = 1.0\n",
    "num = 100\n",
    "lamba_set = []\n",
    "admm_result = []\n",
    "start = time.time()\n",
    "lasso = admm.ADMM(X, Y)\n",
    "for t in range(num):\n",
    "    print t\n",
    "    k = math.exp(lower + (upper - lower)*t/num)\n",
    "    lasso.solve(lamba = k)\n",
    "    lamba_set.append(k)\n",
    "    admm_result.append(lasso.x)\n",
    "end = time.time()\n",
    "print \"After\", end - start, \"s get ADMM results\"\n",
    "admm_result = np.ndarray(admm_result).T\n",
    "np.savetxt('results', admm_result)"
   ]
  },
  {
   "cell_type": "code",
   "execution_count": null,
   "metadata": {
    "collapsed": true
   },
   "outputs": [],
   "source": [
    "plt.figure()\n",
    "for i in range(p):\n",
    "    plt.plot(lamba_set, admm_result[i])"
   ]
  }
 ],
 "metadata": {
  "kernelspec": {
   "display_name": "Python 2",
   "language": "python",
   "name": "python2"
  },
  "language_info": {
   "codemirror_mode": {
    "name": "ipython",
    "version": 2
   },
   "file_extension": ".py",
   "mimetype": "text/x-python",
   "name": "python",
   "nbconvert_exporter": "python",
   "pygments_lexer": "ipython2",
   "version": "2.7.5"
  }
 },
 "nbformat": 4,
 "nbformat_minor": 2
}
