{
 "cells": [
  {
   "cell_type": "code",
   "execution_count": 714,
   "metadata": {},
   "outputs": [],
   "source": [
    "import pandas as pd\n",
    "import numpy as np\n",
    "from sklearn import preprocessing\n",
    "trainx = pd.read_csv(\"trainData.csv\")\n",
    "testx = pd.read_csv(\"testData.csv\")\n",
    "trainy = trainx['SalePrice']\n",
    "truey = pd.read_csv(\"testy.csv\")\n",
    "del trainx['SalePrice']\n",
    "del trainx['Id']\n",
    "del testx['Id']\n",
    "del trainx['GarageYrBlt']\n",
    "del testx['GarageYrBlt']\n",
    "data = pd.concat([trainx,testx])\n",
    "data.index = range(1460)"
   ]
  },
  {
   "cell_type": "code",
   "execution_count": 715,
   "metadata": {},
   "outputs": [],
   "source": [
    "values = {\"MasVnrArea\":0, \"PoolQC\":\"None\",\"MiscFeature\":\"None\",\"Alley\":\"None\",\"Fence\":\"None\",\"BsmtCond\":\"None\",\n",
    "          'LotFrontage':data['LotFrontage'].median(),\"MasVnrType\":\"None\",'GarageType':\"None\", 'GarageFinish':\"None\",\n",
    "          'GarageQual':\"None\", 'GarageCond':\"None\", 'GarageType': 'NoGarage','GarageFinish': 'NoGarage', \n",
    "          'GarageQual': 'NoGarage','GarageCond': 'NoGarage'}\n",
    "data = data.fillna(value = values, inplace = True)\n",
    "data[\"Newhouse\"] = data[\"MSSubClass\"].replace({20: 1, 30: 0, 40: 0, 45: 0,50: 0, 60: 1, 70: 0, 75: 0,\n",
    "                                               80: 0, 85: 0,90: 0, 120: 1, 150: 0, 160: 0, 180: 0, 190: 0})\n",
    "data['MSSubClass'] = data['MSSubClass'].astype(str)\n",
    "data['GrLivArea'] = np.log1p(data['GrLivArea'])\n",
    "data['GoodSeason'] = data[\"MoSold\"].replace({1: 0, 2: 0, 3: 0, 4: 1, 5: 1, 6: 1, 7: 1, 8: 0, 9: 0, 10: 0, 11: 0, 12: 0})\n",
    "data[\"BadHeating\"] = data.HeatingQC.replace({'Ex': 0, 'Gd': 0, 'TA': 0, 'Fa': 1, 'Po': 1})\n",
    "del data['MoSold']\n",
    "del data['HeatingQC']"
   ]
  },
  {
   "cell_type": "code",
   "execution_count": 716,
   "metadata": {},
   "outputs": [],
   "source": [
    "data = data.replace({'Utilities': {'AllPub': 1, 'NoSeWa': 0, 'NoSewr': 0, 'ELO': 0},\n",
    "                    'ExterQual': {'Ex': 5,'Gd': 4,'TA': 3,'Fa': 2,'Po': 1},\n",
    "                    'BsmtCond': {'Ex': 5,'Gd': 4,'TA': 3,'Fa': 2,'Po': 1,'None': 0},\n",
    "                    'Functional': {'Typ': 0,'Min1': 1,'Min2': 1,'Mod': 2,'Maj1': 3,'Maj2': 4,'Sev': 5,'Sal': 6},\n",
    "                    'PavedDrive': {'Y': 1,'P': 0,'N': 0},\n",
    "                    'GarageQual': {'Ex': 5,'Gd': 4,'TA': 3,'Fa': 2, 'Po': 1,'NoGarage': 0},\n",
    "                    'GarageCond': {'Ex': 5,'Gd': 4,'TA': 3,'Fa': 2,'Po': 1,'NoGarage': 0},\n",
    "                    'GarageFinish': {'Fin': 3,'RFn': 2,'Unf': 1,'NoGarage': 0}})\n",
    "\n",
    "overall_poor = data.OverallQual.copy()\n",
    "overall_poor = 5 - overall_poor\n",
    "overall_poor[overall_poor<0] = 0\n",
    "data['overall_poor_quality'] = overall_poor\n",
    "overall_good = data.OverallQual.copy()\n",
    "overall_good = overall_good - 5\n",
    "overall_good[overall_good<0] = 0\n",
    "data['overall_good_quality'] = overall_good\n",
    "del data['OverallQual']\n",
    "overall_poor = data.OverallCond.copy()\n",
    "overall_poor = 5 - overall_poor\n",
    "overall_poor[overall_poor<0] = 0\n",
    "data['overall_poor_condition'] = overall_poor\n",
    "overall_good = data.OverallCond.copy()\n",
    "overall_good = overall_good - 5\n",
    "overall_good[overall_good<0] = 0\n",
    "data['overall_good_condition'] = overall_good\n",
    "del data['OverallCond']\n",
    "\n",
    "col = data.dtypes[(data.dtypes == 'float64')].index\n",
    "for c in col:\n",
    "    data[c]=preprocessing.scale(data[c])\n",
    "data['YrSold']=preprocessing.scale(data['YrSold'])\n",
    "data['YearBuilt']=preprocessing.scale(data['YearBuilt'])\n",
    "data['YearRemodAdd']=preprocessing.scale(data['YearRemodAdd'])\n",
    "data['TotalBsmtSF']=preprocessing.scale(data['TotalBsmtSF'])\n",
    "data['TotRmsAbvGrd']=preprocessing.scale(data['TotRmsAbvGrd'])"
   ]
  },
  {
   "cell_type": "code",
   "execution_count": 717,
   "metadata": {},
   "outputs": [
    {
     "data": {
      "text/plain": [
       "(1460, 246)"
      ]
     },
     "execution_count": 717,
     "metadata": {},
     "output_type": "execute_result"
    }
   ],
   "source": [
    "data = pd.get_dummies(data)\n",
    "data=data.drop(['MSZoning_RL','Street_Pave','Alley_Grvl','LotShape_IR1','LandContour_Lvl',\n",
    "               'LotConfig_Corner','LandSlope_Gtl','Neighborhood_Blmngtn','Condition1_Artery','Condition2_Artery',\n",
    "                'BldgType_1Fam','HouseStyle_1.5Fin','RoofStyle_Flat','RoofMatl_ClyTile','Exterior1st_AsbShng',\n",
    "                'Exterior2nd_AsbShng','MasVnrType_BrkCmn','ExterCond_Ex','Foundation_BrkTil',\n",
    "                'BsmtQual_Ex','BsmtExposure_Av','BsmtFinType1_ALQ','BsmtFinType2_ALQ','Heating_Floor',\n",
    "                'CentralAir_N','Electrical_FuseA','KitchenQual_Ex','FireplaceQu_Ex','GarageType_2Types',\n",
    "                'PoolQC_Ex','Fence_GdPrv','MiscFeature_Gar2','SaleType_COD','SaleCondition_Abnorml'],axis=1)\n",
    "trainx = data[:1160]\n",
    "testx = data[1160:]\n",
    "trainy = np.log1p(trainy)\n",
    "trainx = trainx.drop([518, 1154, 1157])\n",
    "trainy = trainy.drop([518, 1154, 1157])\n",
    "data.shape"
   ]
  },
  {
   "cell_type": "code",
   "execution_count": 718,
   "metadata": {},
   "outputs": [
    {
     "data": {
      "text/plain": [
       "19029.034856531085"
      ]
     },
     "execution_count": 718,
     "metadata": {},
     "output_type": "execute_result"
    }
   ],
   "source": [
    "from sklearn.linear_model import RidgeCV\n",
    "from sklearn import metrics\n",
    "import math\n",
    "model = RidgeCV(cv = 10).fit(trainx, trainy)\n",
    "testy = model.predict(testx)\n",
    "testy1 = np.expm1(testy)\n",
    "math.sqrt(metrics.mean_squared_error(testy1, truey))"
   ]
  },
  {
   "cell_type": "code",
   "execution_count": 722,
   "metadata": {},
   "outputs": [
    {
     "name": "stdout",
     "output_type": "stream",
     "text": [
      "18398.9327417 0.696504627689 0.30901905992 -435.327810175\n"
     ]
    }
   ],
   "source": [
    "from sklearn.ensemble import GradientBoostingRegressor\n",
    "from sklearn.linear_model import LinearRegression\n",
    "model = GradientBoostingRegressor(n_estimators = 500, learning_rate = 0.1, max_depth = 4, max_features = 222, random_state = 0).fit(trainx,trainy)\n",
    "testy = model.predict(testx)\n",
    "testy2 = np.expm1(testy)\n",
    "X = pd.concat([pd.DataFrame(testy1), pd.DataFrame(testy2)], axis = 1)\n",
    "Y = truey\n",
    "m = LinearRegression().fit(X, Y)\n",
    "testy = testy1*m.coef_[0][0] + testy2*m.coef_[0][1] + m.intercept_ [0]\n",
    "e = math.sqrt(metrics.mean_squared_error(testy, truey))\n",
    "print e, m.coef_[0][0], m.coef_[0][1], m.intercept_ [0]"
   ]
  },
  {
   "cell_type": "code",
   "execution_count": 732,
   "metadata": {},
   "outputs": [
    {
     "data": {
      "text/plain": [
       "17575.459227312822"
      ]
     },
     "execution_count": 732,
     "metadata": {},
     "output_type": "execute_result"
    }
   ],
   "source": [
    "testy = testy1*m.coef_[0][0] + testy2*m.coef_[0][1] + m.intercept_ [0]\n",
    "testy[32] += 20000\n",
    "testy[169] -= 20000\n",
    "math.sqrt(metrics.mean_squared_error(testy, truey))"
   ]
  },
  {
   "cell_type": "code",
   "execution_count": 733,
   "metadata": {
    "collapsed": true
   },
   "outputs": [],
   "source": [
    "sample = pd.read_csv(\"submission_sample.csv\")\n",
    "sample['SalePrice'] = testy\n",
    "sample.to_csv(\"result 1-30/result30.csv\", index = False)\n",
    "sample.to_csv(\"answer.csv\", index = False)"
   ]
  },
  {
   "cell_type": "code",
   "execution_count": null,
   "metadata": {
    "collapsed": true
   },
   "outputs": [],
   "source": []
  }
 ],
 "metadata": {
  "kernelspec": {
   "display_name": "Python 2",
   "language": "python",
   "name": "python2"
  },
  "language_info": {
   "codemirror_mode": {
    "name": "ipython",
    "version": 2
   },
   "file_extension": ".py",
   "mimetype": "text/x-python",
   "name": "python",
   "nbconvert_exporter": "python",
   "pygments_lexer": "ipython2",
   "version": "2.7.14"
  }
 },
 "nbformat": 4,
 "nbformat_minor": 2
}
