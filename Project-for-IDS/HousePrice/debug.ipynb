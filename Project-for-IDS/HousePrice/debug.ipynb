{
 "cells": [
  {
   "cell_type": "code",
   "execution_count": 748,
   "metadata": {},
   "outputs": [],
   "source": [
    "import pandas as pd\n",
    "import numpy as np\n",
    "from sklearn.preprocessing import LabelEncoder\n",
    "from sklearn.ensemble import GradientBoostingRegressor\n",
    "from sklearn.ensemble import RandomForestRegressor\n",
    "from sklearn.svm import SVR\n",
    "from sklearn.linear_model import LinearRegression, RidgeCV, LassoCV,BayesianRidge\n",
    "import xgboost as xgb\n",
    "from sklearn import metrics\n",
    "import math\n",
    "trainx = pd.read_csv(\"trainData.csv\")\n",
    "testx = pd.read_csv(\"testData.csv\")\n",
    "trainy = trainx['SalePrice']\n",
    "truey = pd.read_csv(\"testy.csv\")\n",
    "del trainx['SalePrice']\n",
    "del trainx['Id']\n",
    "del testx['Id']\n",
    "del trainx['GarageYrBlt']\n",
    "del testx['GarageYrBlt']\n",
    "data = pd.concat([trainx,testx])\n",
    "data.index = range(1460)\n",
    "data['MasVnrArea'] = data['MasVnrArea'].fillna(0)\n",
    "data['LotFrontage'] = data['LotFrontage'].fillna(data['LotFrontage'].median())\n",
    "data[\"MiscFeature\"] = data[\"MiscFeature\"].fillna(\"None\")\n",
    "data[\"Alley\"] = data[\"Alley\"].fillna(\"None\")\n",
    "data[\"Fence\"] = data[\"Fence\"].fillna(\"None\")\n",
    "data[\"BsmtCond\"] = data[\"BsmtCond\"].fillna(\"None\")\n",
    "data[\"MasVnrType\"] = data[\"MasVnrType\"].fillna(\"None\")\n",
    "data[\"NewDwelling\"] = data[\"MSSubClass\"].replace({20: 1, 30: 0, 40: 0, 45: 0,50: 0, 60: 1, 70: 0, 75: 0, 80: 0, \\\n",
    "                                                  85: 0,90: 0, 120: 1, 150: 0, 160: 0, 180: 0, 190: 0}) \n",
    "data['MSSubClass'] = data['MSSubClass'].astype(str)\n",
    "data['GrLivArea'] = np.log1p(data['GrLivArea'])\n",
    "data[\"PoolQC\"] = data[\"PoolQC\"].fillna(\"None\")\n",
    "data = data.replace({'Utilities': {'AllPub': 1, 'NoSeWa': 0, 'NoSewr': 0, 'ELO': 0},\\\n",
    "                    'ExterQual': {'Ex': 5,'Gd': 4,'TA': 3,'Fa': 2,'Po': 1},\\\n",
    "                    'BsmtCond': {'Ex': 5,'Gd': 4,'TA': 3,'Fa': 2,'Po': 1,'None': 0},\\\n",
    "                    'Functional': {'Typ': 0,'Min1': 1,'Min2': 1,'Mod': 2,'Maj1': 3,'Maj2': 4,'Sev': 5,'Sal': 6},\\\n",
    "                    'PavedDrive': {'Y': 1,'P': 0,'N': 0}})\n",
    "data['Highseason'] = data[\"MoSold\"].replace({1: 0, 2: 0, 3: 0, 4: 1, 5: 1, 6: 1, 7: 1, 8: 0, 9: 0, 10: 0, 11: 0, 12: 0})\n",
    "del data['MoSold']\n",
    "data[\"BadHeating\"] = data.HeatingQC.replace({'Ex': 0, 'Gd': 0, 'TA': 0, 'Fa': 1, 'Po': 1})\n",
    "del data['HeatingQC']"
   ]
  },
  {
   "cell_type": "code",
   "execution_count": 749,
   "metadata": {},
   "outputs": [],
   "source": [
    "overall_poor = data.OverallQual.copy()\n",
    "overall_poor = 5 - overall_poor\n",
    "overall_poor[overall_poor<0] = 0\n",
    "data['overall_poor_quality'] = overall_poor\n",
    "overall_good = data.OverallQual.copy()\n",
    "overall_good = overall_good - 5\n",
    "overall_good[overall_good<0] = 0\n",
    "data['overall_good_quality'] = overall_good\n",
    "del data['OverallQual']\n",
    "overall_poor = data.OverallCond.copy()\n",
    "overall_poor = 5 - overall_poor\n",
    "overall_poor[overall_poor<0] = 0\n",
    "data['overall_poor_condition'] = overall_poor\n",
    "overall_good = data.OverallCond.copy()\n",
    "overall_good = overall_good - 5\n",
    "overall_good[overall_good<0] = 0\n",
    "data['overall_good_condition'] = overall_good\n",
    "del data['OverallCond']"
   ]
  },
  {
   "cell_type": "code",
   "execution_count": 736,
   "metadata": {
    "collapsed": true
   },
   "outputs": [],
   "source": [
    "#qual_dict = {None: 0, \"Po\": 1, \"Fa\": 2, \"TA\": 3, \"Gd\": 4, \"Ex\": 5}\n",
    "#all_df[\"ExterQual\"] = df[\"ExterQual\"].map(qual_dict).astype(int)\n",
    "#all_df[\"ExterCond\"] = df[\"ExterCond\"].map(qual_dict).astype(int)\n",
    "#all_df[\"BsmtQual\"] = df[\"BsmtQual\"].map(qual_dict).astype(int)\n",
    "#all_df[\"BsmtCond\"] = df[\"BsmtCond\"].map(qual_dict).astype(int)"
   ]
  },
  {
   "cell_type": "code",
   "execution_count": 737,
   "metadata": {},
   "outputs": [
    {
     "name": "stdout",
     "output_type": "stream",
     "text": [
      "BsmtQual         37\n",
      "BsmtExposure     38\n",
      "BsmtFinType1     37\n",
      "BsmtFinType2     38\n",
      "Electrical        1\n",
      "FireplaceQu     690\n",
      "GarageType       81\n",
      "GarageFinish     81\n",
      "GarageQual       81\n",
      "GarageCond       81\n",
      "dtype: int64\n",
      "BsmtQual        object\n",
      "BsmtExposure    object\n",
      "BsmtFinType1    object\n",
      "BsmtFinType2    object\n",
      "Electrical      object\n",
      "FireplaceQu     object\n",
      "GarageType      object\n",
      "GarageFinish    object\n",
      "GarageQual      object\n",
      "GarageCond      object\n",
      "dtype: object\n"
     ]
    }
   ],
   "source": [
    "print data.loc[:,data.isnull().any()].isnull().sum()\n",
    "print data.dtypes[data.loc[:,data.isnull().any()].isnull().sum().index]"
   ]
  },
  {
   "cell_type": "code",
   "execution_count": 750,
   "metadata": {},
   "outputs": [
    {
     "name": "stdout",
     "output_type": "stream",
     "text": [
      "BsmtQual         37\n",
      "BsmtExposure     38\n",
      "BsmtFinType1     37\n",
      "BsmtFinType2     38\n",
      "Electrical        1\n",
      "FireplaceQu     690\n",
      "dtype: int64\n",
      "BsmtQual        object\n",
      "BsmtExposure    object\n",
      "BsmtFinType1    object\n",
      "BsmtFinType2    object\n",
      "Electrical      object\n",
      "FireplaceQu     object\n",
      "dtype: object\n"
     ]
    }
   ],
   "source": [
    "cols = ['GarageType', 'GarageFinish', 'GarageQual', 'GarageCond']\n",
    "for col in cols:\n",
    "    data[col] = data[col].fillna('None')\n",
    "from sklearn.preprocessing import LabelEncoder\n",
    "for c in ['GarageFinish', 'GarageQual', 'GarageCond']:\n",
    "    lbl = LabelEncoder() \n",
    "    lbl.fit(list(data[c].values)) \n",
    "    data[c] = lbl.transform(list(data[c].values))\n",
    "print data.loc[:,data.isnull().any()].isnull().sum()\n",
    "print data.dtypes[data.loc[:,data.isnull().any()].isnull().sum().index]"
   ]
  },
  {
   "cell_type": "code",
   "execution_count": 751,
   "metadata": {},
   "outputs": [
    {
     "data": {
      "text/plain": [
       "(1460, 280)"
      ]
     },
     "execution_count": 751,
     "metadata": {},
     "output_type": "execute_result"
    }
   ],
   "source": [
    "data = pd.get_dummies(data)\n",
    "trainx = data[:1160]\n",
    "testx = data[1160:]\n",
    "testx.index = range(300)\n",
    "trainy = np.log1p(trainy)\n",
    "trainx = trainx.drop([518, 1154, 1157])\n",
    "trainy = trainy.drop([518, 1154, 1157])\n",
    "data.shape"
   ]
  },
  {
   "cell_type": "code",
   "execution_count": 752,
   "metadata": {},
   "outputs": [
    {
     "data": {
      "text/plain": [
       "19314.89248503973"
      ]
     },
     "execution_count": 752,
     "metadata": {},
     "output_type": "execute_result"
    }
   ],
   "source": [
    "model = RidgeCV(cv = 10).fit(trainx, trainy)\n",
    "testy = model.predict(testx)\n",
    "testy = np.exp(testy)-1\n",
    "math.sqrt(metrics.mean_squared_error(testy, truey))"
   ]
  },
  {
   "cell_type": "code",
   "execution_count": null,
   "metadata": {
    "collapsed": true
   },
   "outputs": [],
   "source": []
  }
 ],
 "metadata": {
  "kernelspec": {
   "display_name": "Python 2",
   "language": "python",
   "name": "python2"
  }
 },
 "nbformat": 4,
 "nbformat_minor": 2
}
