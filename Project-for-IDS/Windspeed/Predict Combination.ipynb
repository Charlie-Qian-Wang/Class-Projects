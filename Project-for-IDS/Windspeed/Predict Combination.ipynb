{
 "cells": [
  {
   "cell_type": "code",
   "execution_count": 1,
   "metadata": {
    "collapsed": true
   },
   "outputs": [],
   "source": [
    "import pandas as pd\n",
    "import numpy as np"
   ]
  },
  {
   "cell_type": "code",
   "execution_count": 2,
   "metadata": {
    "collapsed": true
   },
   "outputs": [],
   "source": [
    "Fan = []\n",
    "for i in range(6):\n",
    "    temp = pd.DataFrame(columns = [\"time\",\"speed\",\"ntspeed\",\"P\",\"T\",\"u\",\"v\",\"w\"])\n",
    "    Fan.append(temp)\n",
    "for month in range(4, 8):\n",
    "    for day in range(1, 32):\n",
    "        if month != 5 and day == 31:\n",
    "            continue\n",
    "        if month == 4 and day == 7:\n",
    "            continue\n",
    "        if month == 6 and (day == 7 or day == 8 or day == 9 or day == 11 or day == 22):\n",
    "            continue\n",
    "        if month == 7 and day == 2:\n",
    "            continue\n",
    "        fan = []\n",
    "        dataFile = \"PredictData/2016\" + str(month).zfill(2) + \"/\" + str(day).zfill(2) + \"/TimeSeries.txt\"\n",
    "        timeseries = pd.read_table(dataFile, header = None)\n",
    "        timeseries.columns = [\"time\"]\n",
    "        for i in range(6):\n",
    "            fan.append(timeseries)\n",
    "        dataFile = \"PredictData/2016\" + str(month).zfill(2) + \"/\" + str(day).zfill(2) + \"/speed_out_ncl.txt\"\n",
    "        speed = pd.read_table(dataFile, header = None, sep = \" *\", engine = 'python')\n",
    "        for i in range(6):\n",
    "            temp = speed[[i]]\n",
    "            temp.columns = [\"speed\"]\n",
    "            fan[i] = pd.concat([fan[i], temp], axis = 1)\n",
    "        dataFile = \"PredictData/2016\" + str(month).zfill(2) + \"/\" + str(day).zfill(2) + \"/NTspeed_Corrected.txt\"\n",
    "        ntspeed = pd.read_table(dataFile, header = None, sep = \" *\", engine = 'python')\n",
    "        for i in range(6):\n",
    "            temp = ntspeed[[i]]\n",
    "            temp.columns = [\"ntspeed\"]\n",
    "            fan[i] = pd.concat([fan[i], temp], axis = 1)\n",
    "        dataFile = \"PredictData/2016\" + str(month).zfill(2) + \"/\" + str(day).zfill(2) + \"/P_out_ncl.txt\"\n",
    "        P = pd.read_table(dataFile, header = None, sep = \" *\", engine = 'python')\n",
    "        for i in range(6):\n",
    "            temp = P[[i]]\n",
    "            temp.columns = [\"P\"]\n",
    "            fan[i] = pd.concat([fan[i], temp], axis = 1)\n",
    "        dataFile = \"PredictData/2016\" + str(month).zfill(2) + \"/\" + str(day).zfill(2) + \"/T_out_ncl.txt\"\n",
    "        T = pd.read_table(dataFile, header = None, sep = \" *\", engine = 'python')\n",
    "        for i in range(6):\n",
    "            temp = T[[i]]\n",
    "            temp.columns = [\"T\"]\n",
    "            fan[i] = pd.concat([fan[i], temp], axis = 1)\n",
    "        dataFile = \"PredictData/2016\" + str(month).zfill(2) + \"/\" + str(day).zfill(2) + \"/u_out_ncl.txt\"\n",
    "        u = pd.read_table(dataFile, header = None, sep = \" *\", engine = 'python')\n",
    "        for i in range(6):\n",
    "            temp = u[[i]]\n",
    "            temp.columns = [\"u\"]\n",
    "            fan[i] = pd.concat([fan[i], temp], axis = 1)\n",
    "        dataFile = \"PredictData/2016\" + str(month).zfill(2) + \"/\" + str(day).zfill(2) + \"/v_out_ncl.txt\"\n",
    "        v = pd.read_table(dataFile, header = None, sep = \" *\", engine = 'python')\n",
    "        for i in range(6):\n",
    "            temp = v[[i]]\n",
    "            temp.columns = [\"v\"]\n",
    "            fan[i] = pd.concat([fan[i], temp], axis = 1)\n",
    "        dataFile = \"PredictData/2016\" + str(month).zfill(2) + \"/\" + str(day).zfill(2) + \"/w_out_ncl.txt\"\n",
    "        w = pd.read_table(dataFile, header = None, sep = \" *\", engine = 'python')\n",
    "        for i in range(6):\n",
    "            temp = w[[i]]\n",
    "            temp.columns = [\"w\"]\n",
    "            fan[i] = pd.concat([fan[i], temp], axis = 1)\n",
    "        for i in range(6):\n",
    "            fan[i][\"mm\"] = month\n",
    "            fan[i][\"dd\"] = day\n",
    "            Fan[i] = Fan[i].append(fan[i])\n",
    "for i in range(6):\n",
    "    Fan[i].index = range(42978)\n",
    "    dataFile = \"PredictData/predict_for_fan\" + str(i) + \".csv\"\n",
    "    Fan[i].to_csv(dataFile, index = False)"
   ]
  },
  {
   "cell_type": "code",
   "execution_count": null,
   "metadata": {
    "collapsed": true
   },
   "outputs": [],
   "source": []
  }
 ],
 "metadata": {
  "kernelspec": {
   "display_name": "Python 2",
   "language": "python",
   "name": "python2"
  },
  "language_info": {
   "codemirror_mode": {
    "name": "ipython",
    "version": 2
   },
   "file_extension": ".py",
   "mimetype": "text/x-python",
   "name": "python",
   "nbconvert_exporter": "python",
   "pygments_lexer": "ipython2",
   "version": "2.7.14"
  }
 },
 "nbformat": 4,
 "nbformat_minor": 2
}
